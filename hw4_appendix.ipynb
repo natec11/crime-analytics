{
 "cells": [
  {
   "cell_type": "markdown",
   "id": "34c2d826-e907-439b-8c38-3e9c42d4a056",
   "metadata": {},
   "source": [
    "# Appendix Overview\n",
    "\n",
    "So you decided to click the link in my homework report, huh. Welcome! Here are the the appendices I referenced.\n",
    "\n",
    "A note on GenAI: I used GenAI to write more efficient code for the functions, debug, and make small enhancements on what they do. I did not use GenAI to name the function, defined its parameter inputs, or write the stub (part in red) that explains what the function will do (these are all things I did). "
   ]
  },
  {
   "cell_type": "markdown",
   "id": "4798fb17-8513-4920-ae92-5e7405968d5d",
   "metadata": {},
   "source": [
    "## Load python packages"
   ]
  },
  {
   "cell_type": "code",
   "execution_count": 4,
   "id": "9cadc7be-bb38-4e91-8de1-1d8013a7db71",
   "metadata": {},
   "outputs": [],
   "source": [
    "import matplotlib.pyplot as plt\n",
    "import numpy as np\n",
    "import pandas as pd\n",
    "import seaborn as sns\n",
    "\n",
    "%matplotlib inline"
   ]
  },
  {
   "cell_type": "markdown",
   "id": "942032ac-3ab8-4b18-87d9-0009149aee35",
   "metadata": {},
   "source": [
    "### Load victimization dataset into python"
   ]
  },
  {
   "cell_type": "code",
   "execution_count": 5,
   "id": "51b92b8b-3462-44ed-81d3-730fa08a8f8b",
   "metadata": {},
   "outputs": [],
   "source": [
    "df = pd.read_stata(\"Victimization data - Assignment 4.dta\") "
   ]
  },
  {
   "cell_type": "markdown",
   "id": "798e5230-e7c8-4296-8e94-035df8585e9e",
   "metadata": {},
   "source": [
    "# Appendix 1: Determining Time Invariance\n",
    "\n",
    "Discussion:"
   ]
  },
  {
   "cell_type": "code",
   "execution_count": 9,
   "id": "a752985a-2ff3-4d82-9102-4e77230a4faf",
   "metadata": {},
   "outputs": [
    {
     "data": {
      "text/html": [
       "<div>\n",
       "<style scoped>\n",
       "    .dataframe tbody tr th:only-of-type {\n",
       "        vertical-align: middle;\n",
       "    }\n",
       "\n",
       "    .dataframe tbody tr th {\n",
       "        vertical-align: top;\n",
       "    }\n",
       "\n",
       "    .dataframe thead th {\n",
       "        text-align: right;\n",
       "    }\n",
       "</style>\n",
       "<table border=\"1\" class=\"dataframe\">\n",
       "  <thead>\n",
       "    <tr style=\"text-align: right;\">\n",
       "      <th></th>\n",
       "      <th>Variable</th>\n",
       "      <th>Time Invariant</th>\n",
       "    </tr>\n",
       "  </thead>\n",
       "  <tbody>\n",
       "    <tr>\n",
       "      <th>0</th>\n",
       "      <td>victim</td>\n",
       "      <td>False</td>\n",
       "    </tr>\n",
       "    <tr>\n",
       "      <th>1</th>\n",
       "      <td>age</td>\n",
       "      <td>False</td>\n",
       "    </tr>\n",
       "    <tr>\n",
       "      <th>2</th>\n",
       "      <td>marital_status</td>\n",
       "      <td>True</td>\n",
       "    </tr>\n",
       "    <tr>\n",
       "      <th>3</th>\n",
       "      <td>race</td>\n",
       "      <td>True</td>\n",
       "    </tr>\n",
       "    <tr>\n",
       "      <th>4</th>\n",
       "      <td>sex</td>\n",
       "      <td>True</td>\n",
       "    </tr>\n",
       "    <tr>\n",
       "      <th>5</th>\n",
       "      <td>education</td>\n",
       "      <td>True</td>\n",
       "    </tr>\n",
       "    <tr>\n",
       "      <th>6</th>\n",
       "      <td>employed</td>\n",
       "      <td>True</td>\n",
       "    </tr>\n",
       "  </tbody>\n",
       "</table>\n",
       "</div>"
      ],
      "text/plain": [
       "         Variable  Time Invariant\n",
       "0          victim           False\n",
       "1             age           False\n",
       "2  marital_status            True\n",
       "3            race            True\n",
       "4             sex            True\n",
       "5       education            True\n",
       "6        employed            True"
      ]
     },
     "execution_count": 9,
     "metadata": {},
     "output_type": "execute_result"
    }
   ],
   "source": [
    "# Call function for determining time invariance within the dataset\n",
    "time_invariant_table(df, \"id\", \"wave\")"
   ]
  },
  {
   "cell_type": "code",
   "execution_count": 7,
   "id": "d588c01a-bf39-4198-bfae-e9aa504c391c",
   "metadata": {},
   "outputs": [],
   "source": [
    "# Code for the function used to determine time invariance\n",
    "def time_invariant_table(df, identifier, time_periods):\n",
    "    \"\"\"\n",
    "    Determine whether all the variables in a dataset are time variant or not.\n",
    "\n",
    "    Parameters:\n",
    "    df (pd.DataFrame): The dataset containing all variables.\n",
    "    identifier (str): The column representing the unit of analysis (e.g., individual, organization, country).\n",
    "    time_periods (str): The column representing time periods.\n",
    "\n",
    "    Return:\n",
    "    pd.Dataframe \n",
    "    with rows representing all the variables in a dataset, except the idetifier and time_period, \n",
    "    and column containing a boolean value, where true indicates variable is time invariant, and false if not time invariant\n",
    "    \"\"\"\n",
    "    \n",
    "    # Exclude identifier and time_periods columns\n",
    "    variables = [col for col in df.columns if col not in [identifier, time_periods]]\n",
    "\n",
    "    # Check time invariance for each variable\n",
    "    invariance_status = {}\n",
    "\n",
    "    for var in variables:\n",
    "        unique_counts = df.groupby(identifier)[var].nunique().max()\n",
    "        invariance_status[var] = unique_counts == 1 #returns a bool based on if unique_counts is equal to 1\n",
    "\n",
    "    # Convert to DataFrame\n",
    "    return pd.DataFrame(list(invariance_status.items()), columns=[\"Variable\", \"Time Invariant\"])"
   ]
  },
  {
   "cell_type": "code",
   "execution_count": 8,
   "id": "ce8df43e-3bc7-478d-ac9f-4890deec2ffb",
   "metadata": {},
   "outputs": [
    {
     "name": "stdout",
     "output_type": "stream",
     "text": [
      "  Variable  Time Invariant\n",
      "0   income           False\n",
      "1   gender            True\n",
      "  Variable  Time Invariant\n",
      "0   income            True\n",
      "1   gender           False\n"
     ]
    }
   ],
   "source": [
    "# Test if the function works on sample data\n",
    "data = {\n",
    "    'id': [1, 1, 2, 2, 3, 3],\n",
    "    'time': [2020, 2021, 2020, 2021, 2020, 2021],\n",
    "    'income': [50000, 50000, 60000, 65000, 70000, 70000],\n",
    "    'gender': ['M', 'M', 'F', 'F', 'M', 'M']\n",
    "}\n",
    "\n",
    "test1_df = pd.DataFrame(data)\n",
    "result = time_invariant_table(test1_df, 'id', 'time')\n",
    "print(result)\n",
    "\n",
    "\n",
    "# Example Usage\n",
    "data2 = {\n",
    "    'id': [1, 1, 2, 2, 3, 3],\n",
    "    'time': [2020, 2021, 2020, 2021, 2020, 2021],\n",
    "    'income': [50000, 50000, 60000, 60000, 70000, 70000],\n",
    "    'gender': ['M', 'M', 'F', 'M', 'M', 'M']\n",
    "}\n",
    "\n",
    "test2_df = pd.DataFrame(data2)\n",
    "result2 = time_invariant_table(test2_df, 'id', 'time')\n",
    "print(result2)"
   ]
  },
  {
   "cell_type": "markdown",
   "id": "8aadd523-db69-4bb5-9e57-240bbf2774ac",
   "metadata": {},
   "source": [
    "# Appendix 2: Verifying the Dataset is Balanced\n",
    "\n",
    "Discussion"
   ]
  },
  {
   "cell_type": "markdown",
   "id": "a43222e3-baaa-4ede-9f4b-4c8723eacc0a",
   "metadata": {},
   "source": [
    "### Tests with the original dataset"
   ]
  },
  {
   "cell_type": "code",
   "execution_count": 10,
   "id": "6908a646-0d95-4377-8932-ee632b147f22",
   "metadata": {},
   "outputs": [
    {
     "name": "stdout",
     "output_type": "stream",
     "text": [
      "Total number of people interviewed': 92867\n"
     ]
    }
   ],
   "source": [
    "# Count unique IDs\n",
    "unique_ids = list(df['id'].value_counts())\n",
    "print(\"Total number of people interviewed':\", len(unique_ids))"
   ]
  },
  {
   "cell_type": "code",
   "execution_count": 11,
   "id": "e9391640-a90d-40c6-bcd4-e23af41baf45",
   "metadata": {},
   "outputs": [
    {
     "name": "stdout",
     "output_type": "stream",
     "text": [
      "Total number of people who were interviewed at all 4 waves: 92867\n"
     ]
    }
   ],
   "source": [
    "# Count the total number of people interviewed at all 4 waves\n",
    "wave_count = df.groupby([\"id\"])[\"wave\"].count()\n",
    "at_least_4 = list(wave_count[wave_count == 4].index)\n",
    "print(\"Total number of people who were interviewed at all 4 waves:\", len(at_least_4))"
   ]
  },
  {
   "cell_type": "code",
   "execution_count": 32,
   "id": "f1997108-f0a6-4f0e-b5ae-162bec3b1ecc",
   "metadata": {},
   "outputs": [
    {
     "name": "stdout",
     "output_type": "stream",
     "text": [
      "True\n"
     ]
    }
   ],
   "source": [
    "# Call function for determining whether dataset is perfectly balanced (4 waves for each individual)\n",
    "balanced = identifier_measured_4_times(df, \"id\", \"wave\")\n",
    "print(balanced)"
   ]
  },
  {
   "cell_type": "code",
   "execution_count": 31,
   "id": "1e631861-3bf7-41b6-813c-cd9462a0babf",
   "metadata": {},
   "outputs": [],
   "source": [
    "# Code for the function used to determine whether the dataset is balanced\n",
    "def identifier_measured_4_times(df, identifier, time_periods):\n",
    "    \"\"\"\n",
    "    Determine whether all the identifiers in a dataset have observations for all 4 time periods.\n",
    "    \n",
    "    Parameters:\n",
    "    df (pd.DataFrame): The dataset containing all variables.\n",
    "    identifier (str): The column representing the unit of analysis (e.g., individual, organization, country).\n",
    "    time_periods (str): The column representing time periods.\n",
    "    \n",
    "    Returns:\n",
    "    bool: True if all identifiers are measured at all 4 time periods, False otherwise.\n",
    "    \"\"\"\n",
    "    # Get the unique count of time periods for each identifier\n",
    "    counts = df.groupby(identifier)[time_periods].nunique()\n",
    "    \n",
    "    # Check if all identifiers have exactly 4 unique time periods\n",
    "    return counts.eq(4).all()"
   ]
  },
  {
   "cell_type": "code",
   "execution_count": 14,
   "id": "a11da354-61fb-4892-849b-3b7139835edd",
   "metadata": {},
   "outputs": [
    {
     "name": "stdout",
     "output_type": "stream",
     "text": [
      "True\n",
      "False\n"
     ]
    }
   ],
   "source": [
    "# Test if the function works on sample data\n",
    "data = {\n",
    "    'id': [1, 1, 1, 1, 2, 2, 2, 2],\n",
    "    'time': [2020, 2021, 2022, 2023, 2020, 2021, 2022, 2023],\n",
    "    'income': [50000, 50000, 50000, 50000, 70000, 70000, 70000, 70000],\n",
    "    'gender': ['M', 'M', 'M', 'M', 'F', 'F', 'F', 'F']\n",
    "}\n",
    "\n",
    "test1_df = pd.DataFrame(data)\n",
    "result = identifier_measured_4_times(test1_df, 'id', 'time')\n",
    "print(result)\n",
    "\n",
    "\n",
    "# Example Usage\n",
    "data2 = {\n",
    "    'id': [1, 1, 1, 1, 2, 2, 2],\n",
    "    'time': [2020, 2021, 2022, 2023, 2020, 2021, 2022],\n",
    "    'income': [50000, 50000, 50000, 50000, 70000, 70000, 70000],\n",
    "    'gender': ['M', 'M', 'M', 'M', 'F', 'F', 'F']\n",
    "}\n",
    "\n",
    "test2_df = pd.DataFrame(data2)\n",
    "result2 = identifier_measured_4_times(test2_df, 'id', 'time')\n",
    "print(result2)"
   ]
  },
  {
   "cell_type": "markdown",
   "id": "37396c39-cfc0-4479-bf3f-f66da965c4dd",
   "metadata": {},
   "source": [
    "### Tests with the dataset with no missing values"
   ]
  },
  {
   "cell_type": "code",
   "execution_count": 33,
   "id": "5f7d54b2-af7a-4102-a7f8-bb0cfddff48c",
   "metadata": {},
   "outputs": [
    {
     "name": "stdout",
     "output_type": "stream",
     "text": [
      "id                   0\n",
      "wave                 0\n",
      "victim               0\n",
      "age                  0\n",
      "marital_status      96\n",
      "race                 0\n",
      "sex                  0\n",
      "education          308\n",
      "employed          1772\n",
      "dtype: int64\n"
     ]
    }
   ],
   "source": [
    "# Counting NaN values in all columns\n",
    "nan_count = df.isna().sum()\n",
    "print(nan_count)"
   ]
  },
  {
   "cell_type": "code",
   "execution_count": 34,
   "id": "3336181c-c48c-4694-bfd3-edc1483358d1",
   "metadata": {},
   "outputs": [],
   "source": [
    "#drop observations with any missing values (at least one variable has an NaN value)\n",
    "df1 = df.dropna()"
   ]
  },
  {
   "cell_type": "code",
   "execution_count": 35,
   "id": "bd28af45-8499-4c7c-8e80-126676b920bb",
   "metadata": {},
   "outputs": [
    {
     "name": "stdout",
     "output_type": "stream",
     "text": [
      "id                0\n",
      "wave              0\n",
      "victim            0\n",
      "age               0\n",
      "marital_status    0\n",
      "race              0\n",
      "sex               0\n",
      "education         0\n",
      "employed          0\n",
      "dtype: int64\n"
     ]
    }
   ],
   "source": [
    "# Number of missing values in the new df1 dataset (should be zero for all the variables)\n",
    "nan_count1 = df1.isna().sum()\n",
    "print(nan_count1)"
   ]
  },
  {
   "cell_type": "code",
   "execution_count": 36,
   "id": "ee1122a7-e9bb-49a1-bee0-c172a5d660cf",
   "metadata": {},
   "outputs": [
    {
     "name": "stdout",
     "output_type": "stream",
     "text": [
      "Total number of people interviewed': 92405\n"
     ]
    }
   ],
   "source": [
    "# Count unique IDs in the new df1 dataset\n",
    "unique_ids = list(df1['id'].value_counts())\n",
    "print(\"Total number of people interviewed':\", len(unique_ids))"
   ]
  },
  {
   "cell_type": "code",
   "execution_count": 37,
   "id": "76541e66-53cf-4f75-b026-69777e601ea4",
   "metadata": {},
   "outputs": [
    {
     "name": "stdout",
     "output_type": "stream",
     "text": [
      "Total number of people who were interviewed at all 4 waves: 92405\n"
     ]
    }
   ],
   "source": [
    "# Count the total number of people interviewed at all 4 waves in the new df1 dataset\n",
    "wave_count = df1.groupby([\"id\"])[\"wave\"].count()\n",
    "at_least_4 = list(wave_count[wave_count == 4].index)\n",
    "print(\"Total number of people who were interviewed at all 4 waves:\", len(at_least_4))"
   ]
  },
  {
   "cell_type": "code",
   "execution_count": 38,
   "id": "140fb620-51fa-4d12-8bde-36dd39f9fbb3",
   "metadata": {},
   "outputs": [
    {
     "name": "stdout",
     "output_type": "stream",
     "text": [
      "True\n"
     ]
    }
   ],
   "source": [
    "# Call function for determining whether dataset is perfectly balanced (4 waves for each individual) in the new df1 dataset\n",
    "balanced = identifier_measured_4_times(df1, \"id\", \"wave\")\n",
    "print(balanced)"
   ]
  },
  {
   "cell_type": "markdown",
   "id": "e1c4aa85-06c0-4d0c-86f8-08066eb4765d",
   "metadata": {},
   "source": [
    "## Appendix 3: Age"
   ]
  },
  {
   "cell_type": "code",
   "execution_count": 39,
   "id": "f0257058-abc2-4eef-9fb5-84d700a803a0",
   "metadata": {},
   "outputs": [
    {
     "data": {
      "text/plain": [
       "True"
      ]
     },
     "execution_count": 39,
     "metadata": {},
     "output_type": "execute_result"
    }
   ],
   "source": [
    "# Call function to determine whether age increases by 1 year across each observation for each individual\n",
    "does_age_increase_by_1(df1, \"id\", \"age\", \"wave\")"
   ]
  },
  {
   "cell_type": "code",
   "execution_count": 27,
   "id": "bcb8e51e-1070-4585-95d6-5a15484662b6",
   "metadata": {},
   "outputs": [],
   "source": [
    "def does_age_increase_by_1(df, identifier, age, time_period):\n",
    "    \"\"\"\n",
    "    Check each identifier to see if their age increases by 1 between each of the time periods.\n",
    "\n",
    "    Parameters:\n",
    "    df (pandas.df) = dataframe containing the data\n",
    "    identifier (str) = column name for the identifier (unit of analysis)\n",
    "    age (str) = column name for the age value for each identifier at each time period\n",
    "    time_period (str) = column name for the time period variable\n",
    "\n",
    "    Retuns: Bool\n",
    "    where true = all individuals in the dataset have their age increase by one year across each consecutive time period and false otherwise\n",
    "    \"\"\"\n",
    "    \n",
    "    # Sort the dataframe by identifier and time_period to ensure chronological order\n",
    "    df = df.sort_values(by=[identifier, time_period])\n",
    "    \n",
    "    # List to store identifiers that do not meet the criteria\n",
    "    invalid_identifiers = []\n",
    "    \n",
    "    # Iterate over each unique identifier\n",
    "    for ident in df[identifier].unique():\n",
    "        # Filter the rows for the current identifier\n",
    "        identifier_df = df[df[identifier] == ident]\n",
    "        \n",
    "        # Iterate through the rows of the filtered dataframe\n",
    "        is_valid = True\n",
    "        for i in range(1, len(identifier_df)):\n",
    "            if identifier_df[age].iloc[i] - identifier_df[age].iloc[i-1] != 1:\n",
    "                is_valid = False\n",
    "                break\n",
    "        \n",
    "        if not is_valid:\n",
    "            invalid_identifiers.append(ident)\n",
    "    \n",
    "    return len(invalid_identifiers) == 0"
   ]
  },
  {
   "cell_type": "code",
   "execution_count": 28,
   "id": "68c1119d-503d-420b-94c4-892ae66e37b3",
   "metadata": {},
   "outputs": [
    {
     "name": "stdout",
     "output_type": "stream",
     "text": [
      "True\n"
     ]
    }
   ],
   "source": [
    "# Example usage:\n",
    "data = {\n",
    "    'id': [1, 1, 1, 2, 2, 2, 3, 3, 3],\n",
    "    'age': [20, 21, 22, 30, 31, 32, 12, 13, 14],\n",
    "    'time_period': [1, 2, 3, 1, 2, 3, 1, 2, 3]\n",
    "}\n",
    "\n",
    "df1 = pd.DataFrame(data)\n",
    "\n",
    "# Check for identifiers where age does not increase by 1 between time periods\n",
    "result = does_age_increase_by_1(df1, identifier='id', age='age', time_period='time_period')\n",
    "print(result)"
   ]
  },
  {
   "cell_type": "code",
   "execution_count": 40,
   "id": "77079da2-a7ef-40d1-9672-dacfcbbd367e",
   "metadata": {},
   "outputs": [
    {
     "data": {
      "image/png": "[encoded data removed]",
      "text/plain": [
       "<Figure size 640x480 with 1 Axes>"
      ]
     },
     "metadata": {},
     "output_type": "display_data"
    }
   ],
   "source": [
    "# Create a boxplot of the 'age' column\n",
    "sns.boxplot(y=df1[\"age\"])\n",
    "\n",
    "# Add a title\n",
    "plt.title(\"Boxplot of Age\")\n",
    "\n",
    "# Show the plot\n",
    "plt.show()"
   ]
  },
  {
   "cell_type": "code",
   "execution_count": 41,
   "id": "b5880c0d-31c2-4fa4-8395-3ee3e96823ae",
   "metadata": {},
   "outputs": [
    {
     "data": {
      "text/plain": [
       "count    369620.000000\n",
       "mean         38.085141\n",
       "std          17.749679\n",
       "min          16.000000\n",
       "25%          24.000000\n",
       "50%          32.000000\n",
       "75%          50.000000\n",
       "max         102.000000\n",
       "Name: age, dtype: float64"
      ]
     },
     "execution_count": 41,
     "metadata": {},
     "output_type": "execute_result"
    }
   ],
   "source": [
    "# Summary statistics for 'age'\n",
    "summary = df1[\"age\"].describe()\n",
    "summary"
   ]
  },
  {
   "cell_type": "code",
   "execution_count": null,
   "id": "79723873-e398-49cd-8765-cd352c26d8b6",
   "metadata": {},
   "outputs": [],
   "source": []
  }
 ],
 "metadata": {
  "kernelspec": {
   "display_name": "Python 3 (ipykernel)",
   "language": "python",
   "name": "python3"
  },
  "language_info": {
   "codemirror_mode": {
    "name": "ipython",
    "version": 3
   },
   "file_extension": ".py",
   "mimetype": "text/x-python",
   "name": "python",
   "nbconvert_exporter": "python",
   "pygments_lexer": "ipython3",
   "version": "3.13.1"
  }
 },
 "nbformat": 4,
 "nbformat_minor": 5
}
